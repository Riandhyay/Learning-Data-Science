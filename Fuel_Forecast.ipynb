{
  "nbformat": 4,
  "nbformat_minor": 0,
  "metadata": {
    "colab": {
      "name": "Fuel_Forecast.ipynb",
      "provenance": [],
      "collapsed_sections": []
    },
    "kernelspec": {
      "name": "python3",
      "display_name": "Python 3"
    }
  },
  "cells": [
    {
      "cell_type": "code",
      "metadata": {
        "id": "c2XVzR191Urz",
        "colab": {
          "base_uri": "https://localhost:8080/"
        },
        "outputId": "73d9144e-f55f-4a98-df46-7d5a57d7fa11"
      },
      "source": [
        "import pandas as pd\n",
        "import datetime\n",
        "import math\n",
        "import numpy as np\n",
        "import matplotlib.pyplot as plt\n",
        "import scipy.stats as stat\n",
        "from sklearn.linear_model import LinearRegression\n",
        "from sklearn.preprocessing import PolynomialFeatures\n",
        "from sklearn import metrics\n",
        "import seaborn as sns\n",
        "from google.colab import files\n",
        "import io\n",
        "%matplotlib inline\n",
        "\n",
        "# xlrd is needed to load excel files\n",
        "!pip install xlrd"
      ],
      "execution_count": null,
      "outputs": [
        {
          "output_type": "stream",
          "text": [
            "Requirement already satisfied: xlrd in /usr/local/lib/python3.6/dist-packages (1.1.0)\n"
          ],
          "name": "stdout"
        }
      ]
    },
    {
      "cell_type": "code",
      "metadata": {
        "colab": {
          "resources": {
            "http://localhost:8080/nbextensions/google.colab/files.js": {
              "data": "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",
              "ok": true,
              "headers": [
                [
                  "content-type",
                  "application/javascript"
                ]
              ],
              "status": 200,
              "status_text": ""
            }
          },
          "base_uri": "https://localhost:8080/",
          "height": 72
        },
        "id": "W7b9XAFEfUOv",
        "outputId": "2657a6fb-c34c-4f48-eaa7-5f45ae58d623"
      },
      "source": [
        "#Load data\n",
        "\n",
        "uploaded = files.upload()\n"
      ],
      "execution_count": null,
      "outputs": [
        {
          "output_type": "display_data",
          "data": {
            "text/html": [
              "\n",
              "     <input type=\"file\" id=\"files-b4d8c0ef-0879-484d-9beb-cdef80cef3ed\" name=\"files[]\" multiple disabled\n",
              "        style=\"border:none\" />\n",
              "     <output id=\"result-b4d8c0ef-0879-484d-9beb-cdef80cef3ed\">\n",
              "      Upload widget is only available when the cell has been executed in the\n",
              "      current browser session. Please rerun this cell to enable.\n",
              "      </output>\n",
              "      <script src=\"/nbextensions/google.colab/files.js\"></script> "
            ],
            "text/plain": [
              "<IPython.core.display.HTML object>"
            ]
          },
          "metadata": {
            "tags": []
          }
        },
        {
          "output_type": "stream",
          "text": [
            "Saving Outremark5years.xls to Outremark5years (1).xls\n"
          ],
          "name": "stdout"
        }
      ]
    },
    {
      "cell_type": "code",
      "metadata": {
        "colab": {
          "base_uri": "https://localhost:8080/",
          "height": 289
        },
        "id": "FSwmZjJifVL9",
        "outputId": "cf8833ed-5186-4dac-e1a5-016e302dda2a"
      },
      "source": [
        "df = pd.read_excel(io.BytesIO(uploaded['Outremark5years.xls']),sheet_name='SQL Results')\n",
        "df['TANGGAL'] = pd.to_datetime(df['TANGGAL'])\n",
        "df.head()"
      ],
      "execution_count": null,
      "outputs": [
        {
          "output_type": "execute_result",
          "data": {
            "text/html": [
              "<div>\n",
              "<style scoped>\n",
              "    .dataframe tbody tr th:only-of-type {\n",
              "        vertical-align: middle;\n",
              "    }\n",
              "\n",
              "    .dataframe tbody tr th {\n",
              "        vertical-align: top;\n",
              "    }\n",
              "\n",
              "    .dataframe thead th {\n",
              "        text-align: right;\n",
              "    }\n",
              "</style>\n",
              "<table border=\"1\" class=\"dataframe\">\n",
              "  <thead>\n",
              "    <tr style=\"text-align: right;\">\n",
              "      <th></th>\n",
              "      <th></th>\n",
              "      <th>TANGGAL</th>\n",
              "      <th>REPATROL</th>\n",
              "      <th>UNIT</th>\n",
              "      <th>WEATHER</th>\n",
              "      <th>CAUSE</th>\n",
              "      <th>LOSS</th>\n",
              "      <th>NVL(TO_CHAR(EVENT_STATUS.REMAR</th>\n",
              "      <th>NVL(TO_CHAR(JDE_NUMBER),'')</th>\n",
              "      <th>OutageCount</th>\n",
              "    </tr>\n",
              "  </thead>\n",
              "  <tbody>\n",
              "    <tr>\n",
              "      <th>0</th>\n",
              "      <td>1</td>\n",
              "      <td>2015-01-01 15:43:00</td>\n",
              "      <td>2015-01-01 15:43:00</td>\n",
              "      <td>13.8KV CENTRAL DURI FEEDER #1</td>\n",
              "      <td>Fair</td>\n",
              "      <td>Animal</td>\n",
              "      <td>0</td>\n",
              "      <td>15:43 It was reported unbalance voltage for 11...</td>\n",
              "      <td>3001248.0</td>\n",
              "      <td>1</td>\n",
              "    </tr>\n",
              "    <tr>\n",
              "      <th>1</th>\n",
              "      <td>2</td>\n",
              "      <td>2015-01-01 18:06:00</td>\n",
              "      <td>2015-01-01 18:06:00</td>\n",
              "      <td>13.8KV KETIGUL FEEDER#2</td>\n",
              "      <td>Cloudy</td>\n",
              "      <td>Lightning</td>\n",
              "      <td>30</td>\n",
              "      <td>Ketigul VCB fdr #2  T/R 1x.\\r\\nKetigul fdr #1 ...</td>\n",
              "      <td>3001248.0</td>\n",
              "      <td>1</td>\n",
              "    </tr>\n",
              "    <tr>\n",
              "      <th>2</th>\n",
              "      <td>3</td>\n",
              "      <td>2015-01-01 18:06:00</td>\n",
              "      <td>2015-03-01 13:06:00</td>\n",
              "      <td>13.8KV KETIGUL FEEDER#2</td>\n",
              "      <td>Cloudy</td>\n",
              "      <td>Lightning</td>\n",
              "      <td>30</td>\n",
              "      <td>Checked &amp; found, Ketigul VCB fdr #2  T/R 1x  (...</td>\n",
              "      <td>3001248.0</td>\n",
              "      <td>1</td>\n",
              "    </tr>\n",
              "    <tr>\n",
              "      <th>3</th>\n",
              "      <td>4</td>\n",
              "      <td>2015-02-01 06:22:00</td>\n",
              "      <td>2015-02-01 06:22:00</td>\n",
              "      <td>NELLA SUBSTATION</td>\n",
              "      <td>Fair</td>\n",
              "      <td>Voltage regulator failure</td>\n",
              "      <td>4985</td>\n",
              "      <td>06:22 115KV Bangko-Nella line load dropped 44A...</td>\n",
              "      <td>3001248.0</td>\n",
              "      <td>1</td>\n",
              "    </tr>\n",
              "    <tr>\n",
              "      <th>4</th>\n",
              "      <td>5</td>\n",
              "      <td>2015-02-01 06:31:00</td>\n",
              "      <td>2015-02-01 06:31:00</td>\n",
              "      <td>13.8KV NORTH DURI FEEDER #1</td>\n",
              "      <td>Fair</td>\n",
              "      <td>Unidentified</td>\n",
              "      <td>0</td>\n",
              "      <td>No.Duri VCB fdr #1  T/R 1x.\\r\\nNot checked yet...</td>\n",
              "      <td>3001248.0</td>\n",
              "      <td>1</td>\n",
              "    </tr>\n",
              "  </tbody>\n",
              "</table>\n",
              "</div>"
            ],
            "text/plain": [
              "                   TANGGAL  ... NVL(TO_CHAR(JDE_NUMBER),'') OutageCount\n",
              "0    1 2015-01-01 15:43:00  ...                   3001248.0           1\n",
              "1    2 2015-01-01 18:06:00  ...                   3001248.0           1\n",
              "2    3 2015-01-01 18:06:00  ...                   3001248.0           1\n",
              "3    4 2015-02-01 06:22:00  ...                   3001248.0           1\n",
              "4    5 2015-02-01 06:31:00  ...                   3001248.0           1\n",
              "\n",
              "[5 rows x 10 columns]"
            ]
          },
          "metadata": {
            "tags": []
          },
          "execution_count": 12
        }
      ]
    },
    {
      "cell_type": "code",
      "metadata": {
        "colab": {
          "base_uri": "https://localhost:8080/"
        },
        "id": "1w2v4CgNfmST",
        "outputId": "20403857-c799-448a-b6a5-b8148600c8d7"
      },
      "source": [
        "df.info()"
      ],
      "execution_count": null,
      "outputs": [
        {
          "output_type": "stream",
          "text": [
            "<class 'pandas.core.frame.DataFrame'>\n",
            "RangeIndex: 14911 entries, 0 to 14910\n",
            "Data columns (total 10 columns):\n",
            " #   Column                          Non-Null Count  Dtype         \n",
            "---  ------                          --------------  -----         \n",
            " 0                                   14911 non-null  int64         \n",
            " 1   TANGGAL                         14911 non-null  datetime64[ns]\n",
            " 2   REPATROL                        14911 non-null  object        \n",
            " 3   UNIT                            14911 non-null  object        \n",
            " 4   WEATHER                         13581 non-null  object        \n",
            " 5   CAUSE                           13516 non-null  object        \n",
            " 6   LOSS                            14911 non-null  object        \n",
            " 7   NVL(TO_CHAR(EVENT_STATUS.REMAR  14911 non-null  object        \n",
            " 8   NVL(TO_CHAR(JDE_NUMBER),'')     4671 non-null   float64       \n",
            " 9   OutageCount                     14911 non-null  int64         \n",
            "dtypes: datetime64[ns](1), float64(1), int64(2), object(6)\n",
            "memory usage: 1.1+ MB\n"
          ],
          "name": "stdout"
        }
      ]
    },
    {
      "cell_type": "code",
      "metadata": {
        "colab": {
          "base_uri": "https://localhost:8080/",
          "height": 204
        },
        "id": "S7F_P5ypfnCv",
        "outputId": "b73a291c-c225-4af9-d821-d657b93100f1"
      },
      "source": [
        "missing_data = df.isnull()\n",
        "missing_data.head()"
      ],
      "execution_count": null,
      "outputs": [
        {
          "output_type": "execute_result",
          "data": {
            "text/html": [
              "<div>\n",
              "<style scoped>\n",
              "    .dataframe tbody tr th:only-of-type {\n",
              "        vertical-align: middle;\n",
              "    }\n",
              "\n",
              "    .dataframe tbody tr th {\n",
              "        vertical-align: top;\n",
              "    }\n",
              "\n",
              "    .dataframe thead th {\n",
              "        text-align: right;\n",
              "    }\n",
              "</style>\n",
              "<table border=\"1\" class=\"dataframe\">\n",
              "  <thead>\n",
              "    <tr style=\"text-align: right;\">\n",
              "      <th></th>\n",
              "      <th></th>\n",
              "      <th>TANGGAL</th>\n",
              "      <th>REPATROL</th>\n",
              "      <th>UNIT</th>\n",
              "      <th>WEATHER</th>\n",
              "      <th>CAUSE</th>\n",
              "      <th>LOSS</th>\n",
              "      <th>NVL(TO_CHAR(EVENT_STATUS.REMAR</th>\n",
              "      <th>NVL(TO_CHAR(JDE_NUMBER),'')</th>\n",
              "    </tr>\n",
              "  </thead>\n",
              "  <tbody>\n",
              "    <tr>\n",
              "      <th>0</th>\n",
              "      <td>False</td>\n",
              "      <td>False</td>\n",
              "      <td>False</td>\n",
              "      <td>False</td>\n",
              "      <td>False</td>\n",
              "      <td>False</td>\n",
              "      <td>False</td>\n",
              "      <td>False</td>\n",
              "      <td>False</td>\n",
              "    </tr>\n",
              "    <tr>\n",
              "      <th>1</th>\n",
              "      <td>False</td>\n",
              "      <td>False</td>\n",
              "      <td>False</td>\n",
              "      <td>False</td>\n",
              "      <td>False</td>\n",
              "      <td>False</td>\n",
              "      <td>False</td>\n",
              "      <td>False</td>\n",
              "      <td>False</td>\n",
              "    </tr>\n",
              "    <tr>\n",
              "      <th>2</th>\n",
              "      <td>False</td>\n",
              "      <td>False</td>\n",
              "      <td>False</td>\n",
              "      <td>False</td>\n",
              "      <td>False</td>\n",
              "      <td>False</td>\n",
              "      <td>False</td>\n",
              "      <td>False</td>\n",
              "      <td>False</td>\n",
              "    </tr>\n",
              "    <tr>\n",
              "      <th>3</th>\n",
              "      <td>False</td>\n",
              "      <td>False</td>\n",
              "      <td>False</td>\n",
              "      <td>False</td>\n",
              "      <td>False</td>\n",
              "      <td>False</td>\n",
              "      <td>False</td>\n",
              "      <td>False</td>\n",
              "      <td>False</td>\n",
              "    </tr>\n",
              "    <tr>\n",
              "      <th>4</th>\n",
              "      <td>False</td>\n",
              "      <td>False</td>\n",
              "      <td>False</td>\n",
              "      <td>False</td>\n",
              "      <td>False</td>\n",
              "      <td>False</td>\n",
              "      <td>False</td>\n",
              "      <td>False</td>\n",
              "      <td>False</td>\n",
              "    </tr>\n",
              "  </tbody>\n",
              "</table>\n",
              "</div>"
            ],
            "text/plain": [
              "          TANGGAL  ...  NVL(TO_CHAR(EVENT_STATUS.REMAR  NVL(TO_CHAR(JDE_NUMBER),'')\n",
              "0  False    False  ...                           False                        False\n",
              "1  False    False  ...                           False                        False\n",
              "2  False    False  ...                           False                        False\n",
              "3  False    False  ...                           False                        False\n",
              "4  False    False  ...                           False                        False\n",
              "\n",
              "[5 rows x 9 columns]"
            ]
          },
          "metadata": {
            "tags": []
          },
          "execution_count": 6
        }
      ]
    },
    {
      "cell_type": "code",
      "metadata": {
        "colab": {
          "base_uri": "https://localhost:8080/",
          "height": 289
        },
        "id": "8TgbPs98_q-c",
        "outputId": "e2a10daf-2b50-4b26-ff6c-47535f596515"
      },
      "source": [
        "mask_data = df.isnull().any(axis=1)\n",
        "df[mask_data].head()"
      ],
      "execution_count": null,
      "outputs": [
        {
          "output_type": "execute_result",
          "data": {
            "text/html": [
              "<div>\n",
              "<style scoped>\n",
              "    .dataframe tbody tr th:only-of-type {\n",
              "        vertical-align: middle;\n",
              "    }\n",
              "\n",
              "    .dataframe tbody tr th {\n",
              "        vertical-align: top;\n",
              "    }\n",
              "\n",
              "    .dataframe thead th {\n",
              "        text-align: right;\n",
              "    }\n",
              "</style>\n",
              "<table border=\"1\" class=\"dataframe\">\n",
              "  <thead>\n",
              "    <tr style=\"text-align: right;\">\n",
              "      <th></th>\n",
              "      <th></th>\n",
              "      <th>TANGGAL</th>\n",
              "      <th>REPATROL</th>\n",
              "      <th>UNIT</th>\n",
              "      <th>WEATHER</th>\n",
              "      <th>CAUSE</th>\n",
              "      <th>LOSS</th>\n",
              "      <th>NVL(TO_CHAR(EVENT_STATUS.REMAR</th>\n",
              "      <th>NVL(TO_CHAR(JDE_NUMBER),'')</th>\n",
              "    </tr>\n",
              "  </thead>\n",
              "  <tbody>\n",
              "    <tr>\n",
              "      <th>17</th>\n",
              "      <td>18</td>\n",
              "      <td>05-01-2015 23:59</td>\n",
              "      <td>05-01-2015 23:59</td>\n",
              "      <td>CPI POWER SYSTEM</td>\n",
              "      <td>Fair</td>\n",
              "      <td>Normal Condition</td>\n",
              "      <td>-</td>\n",
              "      <td>CPI Power system normal Condition.\\r\\n\\r\\n</td>\n",
              "      <td>NaN</td>\n",
              "    </tr>\n",
              "    <tr>\n",
              "      <th>31</th>\n",
              "      <td>32</td>\n",
              "      <td>07-01-2015 12:58</td>\n",
              "      <td>07-01-2015 12:58</td>\n",
              "      <td>MINAS POWER PLANT</td>\n",
              "      <td>Fair</td>\n",
              "      <td>NaN</td>\n",
              "      <td>-</td>\n",
              "      <td>MGT #5  T/O By Alarm: High vibration trip.\\r\\n...</td>\n",
              "      <td>NaN</td>\n",
              "    </tr>\n",
              "    <tr>\n",
              "      <th>32</th>\n",
              "      <td>33</td>\n",
              "      <td>07-01-2015 14:05</td>\n",
              "      <td>07-01-2015 14:05</td>\n",
              "      <td>MINAS POWER PLANT</td>\n",
              "      <td>NaN</td>\n",
              "      <td>NaN</td>\n",
              "      <td>-</td>\n",
              "      <td>14:05 S/U MGT #5 , then On Line at 14:55.\\r\\n\\r\\n</td>\n",
              "      <td>NaN</td>\n",
              "    </tr>\n",
              "    <tr>\n",
              "      <th>48</th>\n",
              "      <td>49</td>\n",
              "      <td>08-01-2015 18:00</td>\n",
              "      <td>08-01-2015 18:00</td>\n",
              "      <td>MINAS POWER PLANT</td>\n",
              "      <td>NaN</td>\n",
              "      <td>NaN</td>\n",
              "      <td>-</td>\n",
              "      <td>18:00 Off line MGT #10, then S/D the Unit at 1...</td>\n",
              "      <td>123.0</td>\n",
              "    </tr>\n",
              "    <tr>\n",
              "      <th>49</th>\n",
              "      <td>50</td>\n",
              "      <td>08-01-2015 18:20</td>\n",
              "      <td>08-01-2015 18:20</td>\n",
              "      <td>MINAS POWER PLANT</td>\n",
              "      <td>NaN</td>\n",
              "      <td>NaN</td>\n",
              "      <td>-</td>\n",
              "      <td>18:20 S/U MGT #6, then on line the unit at 18:...</td>\n",
              "      <td>NaN</td>\n",
              "    </tr>\n",
              "  </tbody>\n",
              "</table>\n",
              "</div>"
            ],
            "text/plain": [
              "         ... NVL(TO_CHAR(JDE_NUMBER),'')\n",
              "17   18  ...                         NaN\n",
              "31   32  ...                         NaN\n",
              "32   33  ...                         NaN\n",
              "48   49  ...                       123.0\n",
              "49   50  ...                         NaN\n",
              "\n",
              "[5 rows x 9 columns]"
            ]
          },
          "metadata": {
            "tags": []
          },
          "execution_count": 7
        }
      ]
    },
    {
      "cell_type": "code",
      "metadata": {
        "colab": {
          "base_uri": "https://localhost:8080/"
        },
        "id": "zO8Ehq74fqvW",
        "outputId": "2f2091eb-590f-4750-c551-68077fb9e44e"
      },
      "source": [
        "missing_data.sum()"
      ],
      "execution_count": null,
      "outputs": [
        {
          "output_type": "execute_result",
          "data": {
            "text/plain": [
              "                                      0\n",
              "TANGGAL                               0\n",
              "REPATROL                              0\n",
              "UNIT                                  0\n",
              "WEATHER                            1330\n",
              "CAUSE                              1395\n",
              "LOSS                                  0\n",
              "NVL(TO_CHAR(EVENT_STATUS.REMAR        0\n",
              "NVL(TO_CHAR(JDE_NUMBER),'')       10240\n",
              "dtype: int64"
            ]
          },
          "metadata": {
            "tags": []
          },
          "execution_count": 8
        }
      ]
    },
    {
      "cell_type": "code",
      "metadata": {
        "id": "M993PKvl_WBg"
      },
      "source": [
        "#change missing value with median\n",
        "df.fillna(value=0,inplace=True)"
      ],
      "execution_count": null,
      "outputs": []
    },
    {
      "cell_type": "code",
      "metadata": {
        "colab": {
          "base_uri": "https://localhost:8080/",
          "height": 368
        },
        "id": "rBqmbog-fwkT",
        "outputId": "1b32d960-6bb8-401d-8ddf-db8fe697b39b"
      },
      "source": [
        "df.describe()"
      ],
      "execution_count": null,
      "outputs": [
        {
          "output_type": "execute_result",
          "data": {
            "text/html": [
              "<div>\n",
              "<style scoped>\n",
              "    .dataframe tbody tr th:only-of-type {\n",
              "        vertical-align: middle;\n",
              "    }\n",
              "\n",
              "    .dataframe tbody tr th {\n",
              "        vertical-align: top;\n",
              "    }\n",
              "\n",
              "    .dataframe thead th {\n",
              "        text-align: right;\n",
              "    }\n",
              "</style>\n",
              "<table border=\"1\" class=\"dataframe\">\n",
              "  <thead>\n",
              "    <tr style=\"text-align: right;\">\n",
              "      <th></th>\n",
              "      <th>Production Light 1 (BOPD)</th>\n",
              "      <th>Production Light 2 (BOPD)</th>\n",
              "      <th>Production Heavy (BOPD)</th>\n",
              "      <th>Production Oil (BOPD)</th>\n",
              "      <th>Estimate Produced Water (BWPD)</th>\n",
              "      <th>Heat Rate (MSCF/MWHR)</th>\n",
              "      <th>Import Gas (MSCFD)</th>\n",
              "      <th>Own Gas (MSCFD)</th>\n",
              "      <th>Tn</th>\n",
              "      <th>Tx</th>\n",
              "      <th>Tavg</th>\n",
              "      <th>RH_avg</th>\n",
              "      <th>RR</th>\n",
              "      <th>ss</th>\n",
              "      <th>ff_x</th>\n",
              "      <th>ff_avg</th>\n",
              "    </tr>\n",
              "  </thead>\n",
              "  <tbody>\n",
              "    <tr>\n",
              "      <th>count</th>\n",
              "      <td>344.000000</td>\n",
              "      <td>344.000000</td>\n",
              "      <td>344.000000</td>\n",
              "      <td>344.000000</td>\n",
              "      <td>3.440000e+02</td>\n",
              "      <td>344.000000</td>\n",
              "      <td>344.000000</td>\n",
              "      <td>344.000000</td>\n",
              "      <td>344.000000</td>\n",
              "      <td>344.000000</td>\n",
              "      <td>344.000000</td>\n",
              "      <td>344.000000</td>\n",
              "      <td>344.000000</td>\n",
              "      <td>344.000000</td>\n",
              "      <td>344.000000</td>\n",
              "      <td>344.000000</td>\n",
              "    </tr>\n",
              "    <tr>\n",
              "      <th>mean</th>\n",
              "      <td>64794.299419</td>\n",
              "      <td>47302.712209</td>\n",
              "      <td>65187.584302</td>\n",
              "      <td>177284.595930</td>\n",
              "      <td>1.772846e+08</td>\n",
              "      <td>17.340879</td>\n",
              "      <td>32.787592</td>\n",
              "      <td>20.810377</td>\n",
              "      <td>23.104360</td>\n",
              "      <td>32.417151</td>\n",
              "      <td>26.952907</td>\n",
              "      <td>84.409884</td>\n",
              "      <td>291.466570</td>\n",
              "      <td>4.423547</td>\n",
              "      <td>2.331395</td>\n",
              "      <td>0.601744</td>\n",
              "    </tr>\n",
              "    <tr>\n",
              "      <th>std</th>\n",
              "      <td>4619.983634</td>\n",
              "      <td>2075.039250</td>\n",
              "      <td>4060.997820</td>\n",
              "      <td>7831.410407</td>\n",
              "      <td>7.831410e+06</td>\n",
              "      <td>0.984722</td>\n",
              "      <td>10.146096</td>\n",
              "      <td>3.119916</td>\n",
              "      <td>0.544368</td>\n",
              "      <td>1.353334</td>\n",
              "      <td>0.760729</td>\n",
              "      <td>3.398339</td>\n",
              "      <td>1564.754671</td>\n",
              "      <td>2.389090</td>\n",
              "      <td>1.513998</td>\n",
              "      <td>0.567432</td>\n",
              "    </tr>\n",
              "    <tr>\n",
              "      <th>min</th>\n",
              "      <td>42730.000000</td>\n",
              "      <td>33331.000000</td>\n",
              "      <td>43512.000000</td>\n",
              "      <td>151991.000000</td>\n",
              "      <td>1.519910e+08</td>\n",
              "      <td>14.653374</td>\n",
              "      <td>20.373899</td>\n",
              "      <td>6.532344</td>\n",
              "      <td>21.400000</td>\n",
              "      <td>26.000000</td>\n",
              "      <td>24.100000</td>\n",
              "      <td>75.000000</td>\n",
              "      <td>0.000000</td>\n",
              "      <td>0.000000</td>\n",
              "      <td>0.000000</td>\n",
              "      <td>0.000000</td>\n",
              "    </tr>\n",
              "    <tr>\n",
              "      <th>25%</th>\n",
              "      <td>62840.500000</td>\n",
              "      <td>46250.250000</td>\n",
              "      <td>61961.500000</td>\n",
              "      <td>172011.500000</td>\n",
              "      <td>1.720115e+08</td>\n",
              "      <td>16.652638</td>\n",
              "      <td>26.974625</td>\n",
              "      <td>19.222382</td>\n",
              "      <td>23.000000</td>\n",
              "      <td>31.800000</td>\n",
              "      <td>26.600000</td>\n",
              "      <td>82.000000</td>\n",
              "      <td>0.000000</td>\n",
              "      <td>2.775000</td>\n",
              "      <td>2.000000</td>\n",
              "      <td>0.000000</td>\n",
              "    </tr>\n",
              "    <tr>\n",
              "      <th>50%</th>\n",
              "      <td>64509.500000</td>\n",
              "      <td>47339.000000</td>\n",
              "      <td>65668.000000</td>\n",
              "      <td>177045.000000</td>\n",
              "      <td>1.770450e+08</td>\n",
              "      <td>17.314424</td>\n",
              "      <td>29.259700</td>\n",
              "      <td>20.963706</td>\n",
              "      <td>23.000000</td>\n",
              "      <td>32.400000</td>\n",
              "      <td>27.000000</td>\n",
              "      <td>84.000000</td>\n",
              "      <td>3.000000</td>\n",
              "      <td>4.500000</td>\n",
              "      <td>2.000000</td>\n",
              "      <td>1.000000</td>\n",
              "    </tr>\n",
              "    <tr>\n",
              "      <th>75%</th>\n",
              "      <td>66642.250000</td>\n",
              "      <td>48382.250000</td>\n",
              "      <td>68390.000000</td>\n",
              "      <td>182405.750000</td>\n",
              "      <td>1.824058e+08</td>\n",
              "      <td>18.030769</td>\n",
              "      <td>33.490474</td>\n",
              "      <td>22.861856</td>\n",
              "      <td>23.400000</td>\n",
              "      <td>33.200000</td>\n",
              "      <td>27.400000</td>\n",
              "      <td>86.000000</td>\n",
              "      <td>7.850000</td>\n",
              "      <td>6.025000</td>\n",
              "      <td>3.000000</td>\n",
              "      <td>1.000000</td>\n",
              "    </tr>\n",
              "    <tr>\n",
              "      <th>max</th>\n",
              "      <td>84126.000000</td>\n",
              "      <td>63484.000000</td>\n",
              "      <td>77359.000000</td>\n",
              "      <td>213471.000000</td>\n",
              "      <td>2.134710e+08</td>\n",
              "      <td>20.445555</td>\n",
              "      <td>61.537941</td>\n",
              "      <td>27.296082</td>\n",
              "      <td>25.200000</td>\n",
              "      <td>40.000000</td>\n",
              "      <td>30.000000</td>\n",
              "      <td>96.000000</td>\n",
              "      <td>8888.000000</td>\n",
              "      <td>10.400000</td>\n",
              "      <td>21.000000</td>\n",
              "      <td>2.000000</td>\n",
              "    </tr>\n",
              "  </tbody>\n",
              "</table>\n",
              "</div>"
            ],
            "text/plain": [
              "       Production Light 1 (BOPD)  ...      ff_avg\n",
              "count                 344.000000  ...  344.000000\n",
              "mean                64794.299419  ...    0.601744\n",
              "std                  4619.983634  ...    0.567432\n",
              "min                 42730.000000  ...    0.000000\n",
              "25%                 62840.500000  ...    0.000000\n",
              "50%                 64509.500000  ...    1.000000\n",
              "75%                 66642.250000  ...    1.000000\n",
              "max                 84126.000000  ...    2.000000\n",
              "\n",
              "[8 rows x 16 columns]"
            ]
          },
          "metadata": {
            "tags": []
          },
          "execution_count": 9
        }
      ]
    },
    {
      "cell_type": "code",
      "metadata": {
        "colab": {
          "base_uri": "https://localhost:8080/"
        },
        "id": "6Gcxf9RngNo9",
        "outputId": "cb928c2c-1e47-4d7a-f8ab-6ddf6e9c4b1c"
      },
      "source": [
        "print(df.nunique())"
      ],
      "execution_count": null,
      "outputs": [
        {
          "output_type": "stream",
          "text": [
            "Date                              344\n",
            "Production Light 1 (BOPD)         332\n",
            "Production Light 2 (BOPD)         332\n",
            "Production Heavy (BOPD)           341\n",
            "Production Oil (BOPD)             341\n",
            "Estimate Produced Water (BWPD)    341\n",
            "Heat Rate (MSCF/MWHR)             344\n",
            "Import Gas (MSCFD)                344\n",
            "Own Gas (MSCFD)                   344\n",
            "Tn                                 27\n",
            "Tx                                 61\n",
            "Tavg                               42\n",
            "RH_avg                             22\n",
            "RR                                 90\n",
            "ss                                 91\n",
            "ff_x                                8\n",
            "ff_avg                              3\n",
            "Outage                              1\n",
            "dtype: int64\n"
          ],
          "name": "stdout"
        }
      ]
    },
    {
      "cell_type": "code",
      "metadata": {
        "colab": {
          "base_uri": "https://localhost:8080/",
          "height": 320
        },
        "id": "QWiArA7JgSrF",
        "outputId": "8ac24cbb-b62e-41ba-e035-1fa3b4de5447"
      },
      "source": [
        "A = df.columns[4]\n",
        "data = df[A]\n",
        "density = stat.gaussian_kde(data)\n",
        "plt.figure(figsize = (10,5))\n",
        "plt.hist(data, bins=50)\n",
        "plt.show()"
      ],
      "execution_count": null,
      "outputs": [
        {
          "output_type": "display_data",
          "data": {
            "image/png": "[encoded data removed]",
            "text/plain": [
              "<Figure size 720x360 with 1 Axes>"
            ]
          },
          "metadata": {
            "tags": [],
            "needs_background": "light"
          }
        }
      ]
    },
    {
      "cell_type": "code",
      "metadata": {
        "colab": {
          "base_uri": "https://localhost:8080/",
          "height": 320
        },
        "id": "nb0fIj0xgjRo",
        "outputId": "17be0342-1292-4531-9305-c1de09a4367e"
      },
      "source": [
        "B = df.columns[7]\n",
        "data2 = df[B]\n",
        "density2 = stat.gaussian_kde(data2)\n",
        "plt.figure(figsize = (10,5))\n",
        "plt.hist(data2, bins=50)\n",
        "plt.show()"
      ],
      "execution_count": null,
      "outputs": [
        {
          "output_type": "display_data",
          "data": {
            "image/png": "[encoded data removed]",
            "text/plain": [
              "<Figure size 720x360 with 1 Axes>"
            ]
          },
          "metadata": {
            "tags": [],
            "needs_background": "light"
          }
        }
      ]
    },
    {
      "cell_type": "code",
      "metadata": {
        "colab": {
          "base_uri": "https://localhost:8080/",
          "height": 324
        },
        "id": "7nokByuAhwkg",
        "outputId": "b240c4c0-6963-4b97-fb51-a9361eedad90"
      },
      "source": [
        "df.plot(x='Date',y='Production Oil (BOPD)', style='blue')\n",
        "plt.title('Production Trends')"
      ],
      "execution_count": null,
      "outputs": [
        {
          "output_type": "execute_result",
          "data": {
            "text/plain": [
              "Text(0.5, 1.0, 'Production Trends')"
            ]
          },
          "metadata": {
            "tags": []
          },
          "execution_count": 14
        },
        {
          "output_type": "display_data",
          "data": {
            "image/png": "[encoded data removed]",
            "text/plain": [
              "<Figure size 432x288 with 1 Axes>"
            ]
          },
          "metadata": {
            "tags": [],
            "needs_background": "light"
          }
        }
      ]
    },
    {
      "cell_type": "code",
      "metadata": {
        "colab": {
          "base_uri": "https://localhost:8080/",
          "height": 324
        },
        "id": "tH5w5ahzlAHu",
        "outputId": "cc26dc6c-7fb1-42f8-cac3-a45133a89628"
      },
      "source": [
        "df.plot(x='Date',y='Import Gas (MSCFD)', style='blue')\n",
        "plt.title('Fuel Trends')"
      ],
      "execution_count": null,
      "outputs": [
        {
          "output_type": "execute_result",
          "data": {
            "text/plain": [
              "Text(0.5, 1.0, 'Fuel Trends')"
            ]
          },
          "metadata": {
            "tags": []
          },
          "execution_count": 15
        },
        {
          "output_type": "display_data",
          "data": {
            "image/png": "[encoded data removed]",
            "text/plain": [
              "<Figure size 432x288 with 1 Axes>"
            ]
          },
          "metadata": {
            "tags": [],
            "needs_background": "light"
          }
        }
      ]
    },
    {
      "cell_type": "code",
      "metadata": {
        "colab": {
          "base_uri": "https://localhost:8080/",
          "height": 312
        },
        "id": "sww2MtKLwU3I",
        "outputId": "7728e4f5-4122-42a8-988f-904c2b4b1e89"
      },
      "source": [
        "sns.regplot(x=\"Production Oil (BOPD)\",y=\"Import Gas (MSCFD)\", data=df)\n",
        "plt.title('Production vs. Fuel Trends')\n",
        "plt.ylim(0,)"
      ],
      "execution_count": null,
      "outputs": [
        {
          "output_type": "execute_result",
          "data": {
            "text/plain": [
              "(0.0, 63.59902407440837)"
            ]
          },
          "metadata": {
            "tags": []
          },
          "execution_count": 16
        },
        {
          "output_type": "display_data",
          "data": {
            "image/png": "[encoded data removed]",
            "text/plain": [
              "<Figure size 432x288 with 1 Axes>"
            ]
          },
          "metadata": {
            "tags": [],
            "needs_background": "light"
          }
        }
      ]
    },
    {
      "cell_type": "code",
      "metadata": {
        "colab": {
          "base_uri": "https://localhost:8080/",
          "height": 360
        },
        "id": "_oEdou3ThOD5",
        "outputId": "fe8564da-b481-42db-88e6-eebb432ed762"
      },
      "source": [
        "#Data Scaling\n",
        "from sklearn.preprocessing import MinMaxScaler\n",
        "\n",
        "# Normalize the data\n",
        "scaler = MinMaxScaler()\n",
        "df_new = df.copy()\n",
        "scaler.fit(df_new[df_new.columns[1:]])\n",
        "df_new[df_new.columns[1:]] = scaler.transform(df_new[df_new.columns[1:]])\n",
        "df_new.head()"
      ],
      "execution_count": null,
      "outputs": [
        {
          "output_type": "execute_result",
          "data": {
            "text/html": [
              "<div>\n",
              "<style scoped>\n",
              "    .dataframe tbody tr th:only-of-type {\n",
              "        vertical-align: middle;\n",
              "    }\n",
              "\n",
              "    .dataframe tbody tr th {\n",
              "        vertical-align: top;\n",
              "    }\n",
              "\n",
              "    .dataframe thead th {\n",
              "        text-align: right;\n",
              "    }\n",
              "</style>\n",
              "<table border=\"1\" class=\"dataframe\">\n",
              "  <thead>\n",
              "    <tr style=\"text-align: right;\">\n",
              "      <th></th>\n",
              "      <th>Date</th>\n",
              "      <th>Production Light 1 (BOPD)</th>\n",
              "      <th>Production Light 2 (BOPD)</th>\n",
              "      <th>Production Heavy (BOPD)</th>\n",
              "      <th>Production Oil (BOPD)</th>\n",
              "      <th>Estimate Produced Water (BWPD)</th>\n",
              "      <th>Heat Rate (MSCF/MWHR)</th>\n",
              "      <th>Import Gas (MSCFD)</th>\n",
              "      <th>Own Gas (MSCFD)</th>\n",
              "      <th>Tn</th>\n",
              "      <th>Tx</th>\n",
              "      <th>Tavg</th>\n",
              "      <th>RH_avg</th>\n",
              "      <th>RR</th>\n",
              "      <th>ss</th>\n",
              "      <th>ff_x</th>\n",
              "      <th>ff_avg</th>\n",
              "      <th>Outage</th>\n",
              "    </tr>\n",
              "  </thead>\n",
              "  <tbody>\n",
              "    <tr>\n",
              "      <th>0</th>\n",
              "      <td>2019-11-19</td>\n",
              "      <td>0.499034</td>\n",
              "      <td>0.332969</td>\n",
              "      <td>0.758029</td>\n",
              "      <td>0.389346</td>\n",
              "      <td>0.389346</td>\n",
              "      <td>0.248808</td>\n",
              "      <td>0.904841</td>\n",
              "      <td>0.657679</td>\n",
              "      <td>0.684211</td>\n",
              "      <td>0.357143</td>\n",
              "      <td>0.338983</td>\n",
              "      <td>0.571429</td>\n",
              "      <td>0.002183</td>\n",
              "      <td>0.586538</td>\n",
              "      <td>0.095238</td>\n",
              "      <td>0.0</td>\n",
              "      <td>0.0</td>\n",
              "    </tr>\n",
              "    <tr>\n",
              "      <th>1</th>\n",
              "      <td>2019-11-20</td>\n",
              "      <td>0.618755</td>\n",
              "      <td>0.428714</td>\n",
              "      <td>0.813839</td>\n",
              "      <td>0.547642</td>\n",
              "      <td>0.547642</td>\n",
              "      <td>0.249225</td>\n",
              "      <td>0.911852</td>\n",
              "      <td>0.693446</td>\n",
              "      <td>0.421053</td>\n",
              "      <td>0.257143</td>\n",
              "      <td>0.254237</td>\n",
              "      <td>0.761905</td>\n",
              "      <td>0.000506</td>\n",
              "      <td>0.259615</td>\n",
              "      <td>0.000000</td>\n",
              "      <td>0.0</td>\n",
              "      <td>0.0</td>\n",
              "    </tr>\n",
              "    <tr>\n",
              "      <th>2</th>\n",
              "      <td>2019-11-21</td>\n",
              "      <td>0.515968</td>\n",
              "      <td>0.455411</td>\n",
              "      <td>0.752327</td>\n",
              "      <td>0.457661</td>\n",
              "      <td>0.457661</td>\n",
              "      <td>0.253610</td>\n",
              "      <td>0.887409</td>\n",
              "      <td>0.766420</td>\n",
              "      <td>0.421053</td>\n",
              "      <td>0.428571</td>\n",
              "      <td>0.322034</td>\n",
              "      <td>0.523810</td>\n",
              "      <td>0.000585</td>\n",
              "      <td>0.048077</td>\n",
              "      <td>0.142857</td>\n",
              "      <td>0.5</td>\n",
              "      <td>0.0</td>\n",
              "    </tr>\n",
              "    <tr>\n",
              "      <th>3</th>\n",
              "      <td>2019-11-22</td>\n",
              "      <td>0.601942</td>\n",
              "      <td>0.471628</td>\n",
              "      <td>0.836322</td>\n",
              "      <td>0.569746</td>\n",
              "      <td>0.569746</td>\n",
              "      <td>0.264841</td>\n",
              "      <td>0.906095</td>\n",
              "      <td>0.764696</td>\n",
              "      <td>0.421053</td>\n",
              "      <td>0.500000</td>\n",
              "      <td>0.305085</td>\n",
              "      <td>0.571429</td>\n",
              "      <td>0.000113</td>\n",
              "      <td>0.346154</td>\n",
              "      <td>0.142857</td>\n",
              "      <td>0.5</td>\n",
              "      <td>0.0</td>\n",
              "    </tr>\n",
              "    <tr>\n",
              "      <th>4</th>\n",
              "      <td>2019-11-23</td>\n",
              "      <td>0.549039</td>\n",
              "      <td>0.489669</td>\n",
              "      <td>0.794694</td>\n",
              "      <td>0.520055</td>\n",
              "      <td>0.520055</td>\n",
              "      <td>0.267020</td>\n",
              "      <td>0.928103</td>\n",
              "      <td>0.728033</td>\n",
              "      <td>0.421053</td>\n",
              "      <td>0.342857</td>\n",
              "      <td>0.254237</td>\n",
              "      <td>0.619048</td>\n",
              "      <td>0.001856</td>\n",
              "      <td>0.403846</td>\n",
              "      <td>0.095238</td>\n",
              "      <td>0.5</td>\n",
              "      <td>0.0</td>\n",
              "    </tr>\n",
              "  </tbody>\n",
              "</table>\n",
              "</div>"
            ],
            "text/plain": [
              "        Date  Production Light 1 (BOPD)  ...  ff_avg  Outage\n",
              "0 2019-11-19                   0.499034  ...     0.0     0.0\n",
              "1 2019-11-20                   0.618755  ...     0.0     0.0\n",
              "2 2019-11-21                   0.515968  ...     0.5     0.0\n",
              "3 2019-11-22                   0.601942  ...     0.5     0.0\n",
              "4 2019-11-23                   0.549039  ...     0.5     0.0\n",
              "\n",
              "[5 rows x 18 columns]"
            ]
          },
          "metadata": {
            "tags": []
          },
          "execution_count": 17
        }
      ]
    },
    {
      "cell_type": "code",
      "metadata": {
        "colab": {
          "base_uri": "https://localhost:8080/",
          "height": 661
        },
        "id": "8MaqT7p1h5fB",
        "outputId": "c1f5596b-cc03-497a-c676-08992a204219"
      },
      "source": [
        "#Explore the correlation between parameters\n",
        "f, ax = plt.subplots(figsize=(10, 8))\n",
        "corr = df_new.corr()\n",
        "sns.heatmap(corr, annot=True)"
      ],
      "execution_count": null,
      "outputs": [
        {
          "output_type": "execute_result",
          "data": {
            "text/plain": [
              "<matplotlib.axes._subplots.AxesSubplot at 0x7f954d612940>"
            ]
          },
          "metadata": {
            "tags": []
          },
          "execution_count": 18
        },
        {
          "output_type": "display_data",
          "data": {
            "image/png": "[encoded data removed]",
            "text/plain": [
              "<Figure size 720x576 with 2 Axes>"
            ]
          },
          "metadata": {
            "tags": [],
            "needs_background": "light"
          }
        }
      ]
    },
    {
      "cell_type": "code",
      "metadata": {
        "colab": {
          "resources": {
            "http://localhost:8080/nbextensions/google.colab/files.js": {
              "data": "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",
              "ok": true,
              "headers": [
                [
                  "content-type",
                  "application/javascript"
                ]
              ],
              "status": 200,
              "status_text": ""
            }
          },
          "base_uri": "https://localhost:8080/",
          "height": 72
        },
        "id": "YmXhcmaFKYSd",
        "outputId": "5bb777da-9918-47ad-ab80-42f254e8f6ee"
      },
      "source": [
        "uploaded2 = files.upload()"
      ],
      "execution_count": null,
      "outputs": [
        {
          "output_type": "display_data",
          "data": {
            "text/html": [
              "\n",
              "     <input type=\"file\" id=\"files-2bbc9d37-493a-40a3-b01b-bc20c9aae78b\" name=\"files[]\" multiple disabled\n",
              "        style=\"border:none\" />\n",
              "     <output id=\"result-2bbc9d37-493a-40a3-b01b-bc20c9aae78b\">\n",
              "      Upload widget is only available when the cell has been executed in the\n",
              "      current browser session. Please rerun this cell to enable.\n",
              "      </output>\n",
              "      <script src=\"/nbextensions/google.colab/files.js\"></script> "
            ],
            "text/plain": [
              "<IPython.core.display.HTML object>"
            ]
          },
          "metadata": {
            "tags": []
          }
        },
        {
          "output_type": "stream",
          "text": [
            "Saving Dummy Outage.xlsx to Dummy Outage (2).xlsx\n"
          ],
          "name": "stdout"
        }
      ]
    },
    {
      "cell_type": "code",
      "metadata": {
        "colab": {
          "base_uri": "https://localhost:8080/",
          "height": 974
        },
        "id": "9C3XhVj8KhBK",
        "outputId": "d0daf2a7-587e-4239-90e7-2af284149f33"
      },
      "source": [
        "df1 = pd.read_excel(io.BytesIO(uploaded2['Dummy Outage.xlsx']))\n",
        "print('Shape of the dataset:', df1.shape)\n",
        "df1.head(10)"
      ],
      "execution_count": null,
      "outputs": [
        {
          "output_type": "stream",
          "text": [
            "Shape of the dataset: (2208, 18)\n"
          ],
          "name": "stdout"
        },
        {
          "output_type": "execute_result",
          "data": {
            "text/html": [
              "<div>\n",
              "<style scoped>\n",
              "    .dataframe tbody tr th:only-of-type {\n",
              "        vertical-align: middle;\n",
              "    }\n",
              "\n",
              "    .dataframe tbody tr th {\n",
              "        vertical-align: top;\n",
              "    }\n",
              "\n",
              "    .dataframe thead th {\n",
              "        text-align: right;\n",
              "    }\n",
              "</style>\n",
              "<table border=\"1\" class=\"dataframe\">\n",
              "  <thead>\n",
              "    <tr style=\"text-align: right;\">\n",
              "      <th></th>\n",
              "      <th>No.</th>\n",
              "      <th>Outage</th>\n",
              "      <th>Outage Month</th>\n",
              "      <th>Outage Hour</th>\n",
              "      <th>Outage Timing</th>\n",
              "      <th>Outage Day</th>\n",
              "      <th>Outage Days</th>\n",
              "      <th>Outage Date</th>\n",
              "      <th>Year</th>\n",
              "      <th>Re/Patrol</th>\n",
              "      <th>Feeder / Unit</th>\n",
              "      <th>Area</th>\n",
              "      <th>Ops Area</th>\n",
              "      <th>Weather</th>\n",
              "      <th>Cause</th>\n",
              "      <th>Loss</th>\n",
              "      <th>R E M A R K</th>\n",
              "      <th>OutageCount</th>\n",
              "    </tr>\n",
              "  </thead>\n",
              "  <tbody>\n",
              "    <tr>\n",
              "      <th>0</th>\n",
              "      <td>1</td>\n",
              "      <td>2020-01-10 07:25:00</td>\n",
              "      <td>January</td>\n",
              "      <td>07:25:00</td>\n",
              "      <td>Morning</td>\n",
              "      <td>Friday</td>\n",
              "      <td>Weekdays</td>\n",
              "      <td>10</td>\n",
              "      <td>2020</td>\n",
              "      <td>2020-01-10 07:25:00</td>\n",
              "      <td>MINAS POWER PLANT</td>\n",
              "      <td>Minas</td>\n",
              "      <td>PGT South</td>\n",
              "      <td>NaN</td>\n",
              "      <td>NaN</td>\n",
              "      <td>-</td>\n",
              "      <td>07:25 MGT#5 trip, by alarm Bus Under voltage. ...</td>\n",
              "      <td>1</td>\n",
              "    </tr>\n",
              "    <tr>\n",
              "      <th>1</th>\n",
              "      <td>2</td>\n",
              "      <td>2020-01-10 07:25:00</td>\n",
              "      <td>January</td>\n",
              "      <td>07:25:00</td>\n",
              "      <td>Morning</td>\n",
              "      <td>Friday</td>\n",
              "      <td>Weekdays</td>\n",
              "      <td>10</td>\n",
              "      <td>2020</td>\n",
              "      <td>2020-01-10 07:25:00</td>\n",
              "      <td>13.8KV MINAS FEEDER #6</td>\n",
              "      <td>Minas</td>\n",
              "      <td>PGT South</td>\n",
              "      <td>Lightning</td>\n",
              "      <td>Animal</td>\n",
              "      <td>75</td>\n",
              "      <td>07:25 Minas ACB fdr#6 T/LO Ctr:207-209 R/F:51@...</td>\n",
              "      <td>1</td>\n",
              "    </tr>\n",
              "    <tr>\n",
              "      <th>2</th>\n",
              "      <td>3</td>\n",
              "      <td>2020-01-10 13:30:00</td>\n",
              "      <td>January</td>\n",
              "      <td>13:30:00</td>\n",
              "      <td>Afternoon</td>\n",
              "      <td>Friday</td>\n",
              "      <td>Weekdays</td>\n",
              "      <td>10</td>\n",
              "      <td>2020</td>\n",
              "      <td>2020-01-10 13:30:00</td>\n",
              "      <td>13.8KV 4D FEEDER #3</td>\n",
              "      <td>Minas</td>\n",
              "      <td>PGT South</td>\n",
              "      <td>Rain</td>\n",
              "      <td>Unidentified</td>\n",
              "      <td>-</td>\n",
              "      <td>4D fdr#3 T/R 1x Ctr:307-308 R/F:51@2@3. Not ch...</td>\n",
              "      <td>1</td>\n",
              "    </tr>\n",
              "    <tr>\n",
              "      <th>3</th>\n",
              "      <td>NaN</td>\n",
              "      <td>2020-01-10 13:30:00</td>\n",
              "      <td>January</td>\n",
              "      <td>13:30:00</td>\n",
              "      <td>Afternoon</td>\n",
              "      <td>Friday</td>\n",
              "      <td>Weekdays</td>\n",
              "      <td>10</td>\n",
              "      <td>2020</td>\n",
              "      <td>2020-05-10 17:03:00</td>\n",
              "      <td>13.8KV 4D FEEDER #3</td>\n",
              "      <td>Minas</td>\n",
              "      <td>PGT South</td>\n",
              "      <td>Rain</td>\n",
              "      <td>Unidentified</td>\n",
              "      <td>-</td>\n",
              "      <td>Checked And Found 4DSB OCB3 Fdr #8 Ctr 307-308...</td>\n",
              "      <td>1</td>\n",
              "    </tr>\n",
              "    <tr>\n",
              "      <th>4</th>\n",
              "      <td>4</td>\n",
              "      <td>2020-01-10 14:00:00</td>\n",
              "      <td>January</td>\n",
              "      <td>14:00:00</td>\n",
              "      <td>Afternoon</td>\n",
              "      <td>Friday</td>\n",
              "      <td>Weekdays</td>\n",
              "      <td>10</td>\n",
              "      <td>2020</td>\n",
              "      <td>2020-01-10 14:00:00</td>\n",
              "      <td>13.8KV DURI COMMUNITY FEEDER #3</td>\n",
              "      <td>Duri</td>\n",
              "      <td>PGT North</td>\n",
              "      <td>Rain and Lightning</td>\n",
              "      <td>Lightning Arrester</td>\n",
              "      <td>-</td>\n",
              "      <td>Duri Community ACB fdr#3 T/R 1x. Not checked y...</td>\n",
              "      <td>1</td>\n",
              "    </tr>\n",
              "    <tr>\n",
              "      <th>5</th>\n",
              "      <td>NaN</td>\n",
              "      <td>2020-01-10 14:00:00</td>\n",
              "      <td>January</td>\n",
              "      <td>14:00:00</td>\n",
              "      <td>Afternoon</td>\n",
              "      <td>Friday</td>\n",
              "      <td>Weekdays</td>\n",
              "      <td>10</td>\n",
              "      <td>2020</td>\n",
              "      <td>2020-05-10 08:00:00</td>\n",
              "      <td>13.8KV DURI COMMUNITY FEEDER #3</td>\n",
              "      <td>Duri</td>\n",
              "      <td>PGT North</td>\n",
              "      <td>Rain and Lightning</td>\n",
              "      <td>Lightning Arrester</td>\n",
              "      <td>-</td>\n",
              "      <td>Checked &amp; found Duri Community fdr#3 T/R 1x Ct...</td>\n",
              "      <td>1</td>\n",
              "    </tr>\n",
              "    <tr>\n",
              "      <th>6</th>\n",
              "      <td>5</td>\n",
              "      <td>2020-01-10 15:44:00</td>\n",
              "      <td>January</td>\n",
              "      <td>15:44:00</td>\n",
              "      <td>Afternoon</td>\n",
              "      <td>Friday</td>\n",
              "      <td>Weekdays</td>\n",
              "      <td>10</td>\n",
              "      <td>2020</td>\n",
              "      <td>2020-01-10 15:44:00</td>\n",
              "      <td>13.8KV DARLING VCB FEEDER #4</td>\n",
              "      <td>Duri</td>\n",
              "      <td>PGT North</td>\n",
              "      <td>Rain and Lightning</td>\n",
              "      <td>Circuit Breaker</td>\n",
              "      <td>7</td>\n",
              "      <td>15:44 Darling VCB fdr#4 T/LO Ctr:151-154 R/F:5...</td>\n",
              "      <td>1</td>\n",
              "    </tr>\n",
              "    <tr>\n",
              "      <th>7</th>\n",
              "      <td>6</td>\n",
              "      <td>2020-02-10 08:41:00</td>\n",
              "      <td>February</td>\n",
              "      <td>08:41:00</td>\n",
              "      <td>Morning</td>\n",
              "      <td>Monday</td>\n",
              "      <td>Weekdays</td>\n",
              "      <td>10</td>\n",
              "      <td>2020</td>\n",
              "      <td>2020-02-10 08:41:00</td>\n",
              "      <td>13.8KV KETIGUL FEEDER#1</td>\n",
              "      <td>Bangko-Balam</td>\n",
              "      <td>PGT North</td>\n",
              "      <td>Fair</td>\n",
              "      <td>Dead End Insulator</td>\n",
              "      <td>22</td>\n",
              "      <td>Ketigul fdr#1 T/R 1x. Not checked yet.</td>\n",
              "      <td>1</td>\n",
              "    </tr>\n",
              "    <tr>\n",
              "      <th>8</th>\n",
              "      <td>NaN</td>\n",
              "      <td>2020-02-10 08:41:00</td>\n",
              "      <td>February</td>\n",
              "      <td>08:41:00</td>\n",
              "      <td>Morning</td>\n",
              "      <td>Monday</td>\n",
              "      <td>Weekdays</td>\n",
              "      <td>10</td>\n",
              "      <td>2020</td>\n",
              "      <td>2020-05-10 15:16:00</td>\n",
              "      <td>13.8KV KETIGUL FEEDER#1</td>\n",
              "      <td>Bangko-Balam</td>\n",
              "      <td>PGT North</td>\n",
              "      <td>Fair</td>\n",
              "      <td>Dead End Insulator</td>\n",
              "      <td>22</td>\n",
              "      <td>Checked And Found PKTGL VCB1 Fdr #8 Ctr 243-24...</td>\n",
              "      <td>1</td>\n",
              "    </tr>\n",
              "    <tr>\n",
              "      <th>9</th>\n",
              "      <td>7</td>\n",
              "      <td>2020-02-10 10:40:00</td>\n",
              "      <td>February</td>\n",
              "      <td>10:40:00</td>\n",
              "      <td>Morning</td>\n",
              "      <td>Monday</td>\n",
              "      <td>Weekdays</td>\n",
              "      <td>10</td>\n",
              "      <td>2020</td>\n",
              "      <td>2020-02-10 10:40:00</td>\n",
              "      <td>CENTRAL DURI POWER PLANT</td>\n",
              "      <td>Duri</td>\n",
              "      <td>PGT North</td>\n",
              "      <td>NaN</td>\n",
              "      <td>NaN</td>\n",
              "      <td>-</td>\n",
              "      <td>S/U CGT#5, then on line the unit at 11:06.</td>\n",
              "      <td>1</td>\n",
              "    </tr>\n",
              "  </tbody>\n",
              "</table>\n",
              "</div>"
            ],
            "text/plain": [
              "   No.  ... OutageCount\n",
              "0   1   ...           1\n",
              "1   2   ...           1\n",
              "2   3   ...           1\n",
              "3  NaN  ...           1\n",
              "4   4   ...           1\n",
              "5  NaN  ...           1\n",
              "6   5   ...           1\n",
              "7   6   ...           1\n",
              "8  NaN  ...           1\n",
              "9   7   ...           1\n",
              "\n",
              "[10 rows x 18 columns]"
            ]
          },
          "metadata": {
            "tags": []
          },
          "execution_count": 21
        }
      ]
    },
    {
      "cell_type": "code",
      "metadata": {
        "colab": {
          "base_uri": "https://localhost:8080/",
          "height": 577
        },
        "id": "00YsV_TJLhJC",
        "outputId": "cf951ebf-3f76-4e85-959f-f7ac36dca27f"
      },
      "source": [
        "datetime_rowid = df['TANGGAL'].map(lambda t: pd.to_datetime(t,\n",
        "format='%Y-%m-%d %H:%M:%S'))\n",
        "df.index = datetime_rowid\n",
        "df.head(10)"
      ],
      "execution_count": null,
      "outputs": [
        {
          "output_type": "execute_result",
          "data": {
            "text/html": [
              "<div>\n",
              "<style scoped>\n",
              "    .dataframe tbody tr th:only-of-type {\n",
              "        vertical-align: middle;\n",
              "    }\n",
              "\n",
              "    .dataframe tbody tr th {\n",
              "        vertical-align: top;\n",
              "    }\n",
              "\n",
              "    .dataframe thead th {\n",
              "        text-align: right;\n",
              "    }\n",
              "</style>\n",
              "<table border=\"1\" class=\"dataframe\">\n",
              "  <thead>\n",
              "    <tr style=\"text-align: right;\">\n",
              "      <th></th>\n",
              "      <th></th>\n",
              "      <th>TANGGAL</th>\n",
              "      <th>REPATROL</th>\n",
              "      <th>UNIT</th>\n",
              "      <th>WEATHER</th>\n",
              "      <th>CAUSE</th>\n",
              "      <th>LOSS</th>\n",
              "      <th>NVL(TO_CHAR(EVENT_STATUS.REMAR</th>\n",
              "      <th>NVL(TO_CHAR(JDE_NUMBER),'')</th>\n",
              "      <th>OutageCount</th>\n",
              "    </tr>\n",
              "    <tr>\n",
              "      <th>TANGGAL</th>\n",
              "      <th></th>\n",
              "      <th></th>\n",
              "      <th></th>\n",
              "      <th></th>\n",
              "      <th></th>\n",
              "      <th></th>\n",
              "      <th></th>\n",
              "      <th></th>\n",
              "      <th></th>\n",
              "      <th></th>\n",
              "    </tr>\n",
              "  </thead>\n",
              "  <tbody>\n",
              "    <tr>\n",
              "      <th>2015-01-01 15:43:00</th>\n",
              "      <td>1</td>\n",
              "      <td>2015-01-01 15:43:00</td>\n",
              "      <td>2015-01-01 15:43:00</td>\n",
              "      <td>13.8KV CENTRAL DURI FEEDER #1</td>\n",
              "      <td>Fair</td>\n",
              "      <td>Animal</td>\n",
              "      <td>0</td>\n",
              "      <td>15:43 It was reported unbalance voltage for 11...</td>\n",
              "      <td>3001248.0</td>\n",
              "      <td>1</td>\n",
              "    </tr>\n",
              "    <tr>\n",
              "      <th>2015-01-01 18:06:00</th>\n",
              "      <td>2</td>\n",
              "      <td>2015-01-01 18:06:00</td>\n",
              "      <td>2015-01-01 18:06:00</td>\n",
              "      <td>13.8KV KETIGUL FEEDER#2</td>\n",
              "      <td>Cloudy</td>\n",
              "      <td>Lightning</td>\n",
              "      <td>30</td>\n",
              "      <td>Ketigul VCB fdr #2  T/R 1x.\\r\\nKetigul fdr #1 ...</td>\n",
              "      <td>3001248.0</td>\n",
              "      <td>1</td>\n",
              "    </tr>\n",
              "    <tr>\n",
              "      <th>2015-01-01 18:06:00</th>\n",
              "      <td>3</td>\n",
              "      <td>2015-01-01 18:06:00</td>\n",
              "      <td>2015-03-01 13:06:00</td>\n",
              "      <td>13.8KV KETIGUL FEEDER#2</td>\n",
              "      <td>Cloudy</td>\n",
              "      <td>Lightning</td>\n",
              "      <td>30</td>\n",
              "      <td>Checked &amp; found, Ketigul VCB fdr #2  T/R 1x  (...</td>\n",
              "      <td>3001248.0</td>\n",
              "      <td>1</td>\n",
              "    </tr>\n",
              "    <tr>\n",
              "      <th>2015-02-01 06:22:00</th>\n",
              "      <td>4</td>\n",
              "      <td>2015-02-01 06:22:00</td>\n",
              "      <td>2015-02-01 06:22:00</td>\n",
              "      <td>NELLA SUBSTATION</td>\n",
              "      <td>Fair</td>\n",
              "      <td>Voltage regulator failure</td>\n",
              "      <td>4985</td>\n",
              "      <td>06:22 115KV Bangko-Nella line load dropped 44A...</td>\n",
              "      <td>3001248.0</td>\n",
              "      <td>1</td>\n",
              "    </tr>\n",
              "    <tr>\n",
              "      <th>2015-02-01 06:31:00</th>\n",
              "      <td>5</td>\n",
              "      <td>2015-02-01 06:31:00</td>\n",
              "      <td>2015-02-01 06:31:00</td>\n",
              "      <td>13.8KV NORTH DURI FEEDER #1</td>\n",
              "      <td>Fair</td>\n",
              "      <td>Unidentified</td>\n",
              "      <td>0</td>\n",
              "      <td>No.Duri VCB fdr #1  T/R 1x.\\r\\nNot checked yet...</td>\n",
              "      <td>3001248.0</td>\n",
              "      <td>1</td>\n",
              "    </tr>\n",
              "    <tr>\n",
              "      <th>2015-02-01 06:31:00</th>\n",
              "      <td>6</td>\n",
              "      <td>2015-02-01 06:31:00</td>\n",
              "      <td>2015-06-01 08:31:00</td>\n",
              "      <td>13.8KV NORTH DURI FEEDER #1</td>\n",
              "      <td>Fair</td>\n",
              "      <td>Unidentified</td>\n",
              "      <td>0</td>\n",
              "      <td>Checked &amp; found, No.Duri VCB fdr #1  T/R 1x   ...</td>\n",
              "      <td>3001248.0</td>\n",
              "      <td>1</td>\n",
              "    </tr>\n",
              "    <tr>\n",
              "      <th>2015-02-01 07:00:00</th>\n",
              "      <td>7</td>\n",
              "      <td>2015-02-01 07:00:00</td>\n",
              "      <td>2015-02-01 07:00:00</td>\n",
              "      <td>13.8KV CENTRAL DURI FEEDER #2</td>\n",
              "      <td>Fair</td>\n",
              "      <td>Secondary Cable</td>\n",
              "      <td>130</td>\n",
              "      <td>07:00 It was reported b/o fuses for Tx o/p #08...</td>\n",
              "      <td>3001248.0</td>\n",
              "      <td>1</td>\n",
              "    </tr>\n",
              "    <tr>\n",
              "      <th>2015-03-01 06:30:00</th>\n",
              "      <td>8</td>\n",
              "      <td>2015-03-01 06:30:00</td>\n",
              "      <td>2015-03-01 06:30:00</td>\n",
              "      <td>13.8KV DURI FIELD FEEDER #4</td>\n",
              "      <td>Fair</td>\n",
              "      <td>Guy Wire</td>\n",
              "      <td>4</td>\n",
              "      <td>06:30 It was reported b/o fuses for Tx o/p #06...</td>\n",
              "      <td>3001248.0</td>\n",
              "      <td>1</td>\n",
              "    </tr>\n",
              "    <tr>\n",
              "      <th>2015-03-01 08:37:00</th>\n",
              "      <td>9</td>\n",
              "      <td>2015-03-01 08:37:00</td>\n",
              "      <td>2015-03-01 08:37:00</td>\n",
              "      <td>13.8KV ROKAN FEEDER #2</td>\n",
              "      <td>Cloudy and Lightning</td>\n",
              "      <td>Lightning</td>\n",
              "      <td>0</td>\n",
              "      <td>Rokan VCB fdr #2  T/R 1x.\\r\\nNot checked yet.\\...</td>\n",
              "      <td>3001248.0</td>\n",
              "      <td>1</td>\n",
              "    </tr>\n",
              "    <tr>\n",
              "      <th>2015-03-01 08:37:00</th>\n",
              "      <td>10</td>\n",
              "      <td>2015-03-01 08:37:00</td>\n",
              "      <td>2015-06-01 13:20:00</td>\n",
              "      <td>13.8KV ROKAN FEEDER #2</td>\n",
              "      <td>Cloudy and Lightning</td>\n",
              "      <td>Lightning</td>\n",
              "      <td>0</td>\n",
              "      <td>Checked &amp; found, Rokan VCB fdr #2  T/R 1x   Ct...</td>\n",
              "      <td>3001248.0</td>\n",
              "      <td>1</td>\n",
              "    </tr>\n",
              "  </tbody>\n",
              "</table>\n",
              "</div>"
            ],
            "text/plain": [
              "                          ... OutageCount\n",
              "TANGGAL                   ...            \n",
              "2015-01-01 15:43:00    1  ...           1\n",
              "2015-01-01 18:06:00    2  ...           1\n",
              "2015-01-01 18:06:00    3  ...           1\n",
              "2015-02-01 06:22:00    4  ...           1\n",
              "2015-02-01 06:31:00    5  ...           1\n",
              "2015-02-01 06:31:00    6  ...           1\n",
              "2015-02-01 07:00:00    7  ...           1\n",
              "2015-03-01 06:30:00    8  ...           1\n",
              "2015-03-01 08:37:00    9  ...           1\n",
              "2015-03-01 08:37:00   10  ...           1\n",
              "\n",
              "[10 rows x 10 columns]"
            ]
          },
          "metadata": {
            "tags": []
          },
          "execution_count": 16
        }
      ]
    },
    {
      "cell_type": "code",
      "metadata": {
        "id": "DzUR0D9QOO30"
      },
      "source": [
        "df['Month_Year'] = df.index.map(lambda d: d.strftime('%m-%Y'))"
      ],
      "execution_count": null,
      "outputs": []
    },
    {
      "cell_type": "code",
      "metadata": {
        "colab": {
          "base_uri": "https://localhost:8080/",
          "height": 359
        },
        "id": "rJkhnGwHOW51",
        "outputId": "a253c32b-73b3-4a35-f2e8-58fb380704aa"
      },
      "source": [
        "monthly_stats = df.groupby(by='Month_Year')['OutageCount'].aggregate([np.count_nonzero, np.mean, np.median,\n",
        "np.std])\n",
        "monthly_stats.reset_index(inplace=True)\n",
        "monthly_stats.head(10)"
      ],
      "execution_count": null,
      "outputs": [
        {
          "output_type": "execute_result",
          "data": {
            "text/html": [
              "<div>\n",
              "<style scoped>\n",
              "    .dataframe tbody tr th:only-of-type {\n",
              "        vertical-align: middle;\n",
              "    }\n",
              "\n",
              "    .dataframe tbody tr th {\n",
              "        vertical-align: top;\n",
              "    }\n",
              "\n",
              "    .dataframe thead th {\n",
              "        text-align: right;\n",
              "    }\n",
              "</style>\n",
              "<table border=\"1\" class=\"dataframe\">\n",
              "  <thead>\n",
              "    <tr style=\"text-align: right;\">\n",
              "      <th></th>\n",
              "      <th>Month_Year</th>\n",
              "      <th>count_nonzero</th>\n",
              "      <th>mean</th>\n",
              "      <th>median</th>\n",
              "      <th>std</th>\n",
              "    </tr>\n",
              "  </thead>\n",
              "  <tbody>\n",
              "    <tr>\n",
              "      <th>0</th>\n",
              "      <td>01-2015</td>\n",
              "      <td>166</td>\n",
              "      <td>1</td>\n",
              "      <td>1</td>\n",
              "      <td>0.0</td>\n",
              "    </tr>\n",
              "    <tr>\n",
              "      <th>1</th>\n",
              "      <td>01-2016</td>\n",
              "      <td>232</td>\n",
              "      <td>1</td>\n",
              "      <td>1</td>\n",
              "      <td>0.0</td>\n",
              "    </tr>\n",
              "    <tr>\n",
              "      <th>2</th>\n",
              "      <td>01-2017</td>\n",
              "      <td>186</td>\n",
              "      <td>1</td>\n",
              "      <td>1</td>\n",
              "      <td>0.0</td>\n",
              "    </tr>\n",
              "    <tr>\n",
              "      <th>3</th>\n",
              "      <td>01-2018</td>\n",
              "      <td>199</td>\n",
              "      <td>1</td>\n",
              "      <td>1</td>\n",
              "      <td>0.0</td>\n",
              "    </tr>\n",
              "    <tr>\n",
              "      <th>4</th>\n",
              "      <td>01-2019</td>\n",
              "      <td>132</td>\n",
              "      <td>1</td>\n",
              "      <td>1</td>\n",
              "      <td>0.0</td>\n",
              "    </tr>\n",
              "    <tr>\n",
              "      <th>5</th>\n",
              "      <td>01-2020</td>\n",
              "      <td>169</td>\n",
              "      <td>1</td>\n",
              "      <td>1</td>\n",
              "      <td>0.0</td>\n",
              "    </tr>\n",
              "    <tr>\n",
              "      <th>6</th>\n",
              "      <td>01-2021</td>\n",
              "      <td>11</td>\n",
              "      <td>1</td>\n",
              "      <td>1</td>\n",
              "      <td>0.0</td>\n",
              "    </tr>\n",
              "    <tr>\n",
              "      <th>7</th>\n",
              "      <td>02-2015</td>\n",
              "      <td>157</td>\n",
              "      <td>1</td>\n",
              "      <td>1</td>\n",
              "      <td>0.0</td>\n",
              "    </tr>\n",
              "    <tr>\n",
              "      <th>8</th>\n",
              "      <td>02-2016</td>\n",
              "      <td>185</td>\n",
              "      <td>1</td>\n",
              "      <td>1</td>\n",
              "      <td>0.0</td>\n",
              "    </tr>\n",
              "    <tr>\n",
              "      <th>9</th>\n",
              "      <td>02-2017</td>\n",
              "      <td>234</td>\n",
              "      <td>1</td>\n",
              "      <td>1</td>\n",
              "      <td>0.0</td>\n",
              "    </tr>\n",
              "  </tbody>\n",
              "</table>\n",
              "</div>"
            ],
            "text/plain": [
              "  Month_Year  count_nonzero  mean  median  std\n",
              "0    01-2015            166     1       1  0.0\n",
              "1    01-2016            232     1       1  0.0\n",
              "2    01-2017            186     1       1  0.0\n",
              "3    01-2018            199     1       1  0.0\n",
              "4    01-2019            132     1       1  0.0\n",
              "5    01-2020            169     1       1  0.0\n",
              "6    01-2021             11     1       1  0.0\n",
              "7    02-2015            157     1       1  0.0\n",
              "8    02-2016            185     1       1  0.0\n",
              "9    02-2017            234     1       1  0.0"
            ]
          },
          "metadata": {
            "tags": []
          },
          "execution_count": 19
        }
      ]
    },
    {
      "cell_type": "code",
      "metadata": {
        "colab": {
          "base_uri": "https://localhost:8080/",
          "height": 359
        },
        "id": "4IQW5JPMO4Wc",
        "outputId": "2f7140e1-9234-4301-a31a-fbe8a014e78a"
      },
      "source": [
        "monthly_stats['Year'] = monthly_stats['Month_Year']\\\n",
        " .map(lambda m: pd.to_datetime(m,format='%m-%Y').strftime('%Y'))\n",
        "monthly_stats['Month'] = monthly_stats['Month_Year']\\\n",
        " .map(lambda m: pd.to_datetime(m, format='%m-%Y').strftime('%m'))\n",
        "monthly_stats.sort_values(by=['Year', 'Month'], inplace=True)\n",
        "monthly_stats.head(10)"
      ],
      "execution_count": null,
      "outputs": [
        {
          "output_type": "execute_result",
          "data": {
            "text/html": [
              "<div>\n",
              "<style scoped>\n",
              "    .dataframe tbody tr th:only-of-type {\n",
              "        vertical-align: middle;\n",
              "    }\n",
              "\n",
              "    .dataframe tbody tr th {\n",
              "        vertical-align: top;\n",
              "    }\n",
              "\n",
              "    .dataframe thead th {\n",
              "        text-align: right;\n",
              "    }\n",
              "</style>\n",
              "<table border=\"1\" class=\"dataframe\">\n",
              "  <thead>\n",
              "    <tr style=\"text-align: right;\">\n",
              "      <th></th>\n",
              "      <th>Month_Year</th>\n",
              "      <th>count_nonzero</th>\n",
              "      <th>mean</th>\n",
              "      <th>median</th>\n",
              "      <th>std</th>\n",
              "      <th>Year</th>\n",
              "      <th>Month</th>\n",
              "    </tr>\n",
              "  </thead>\n",
              "  <tbody>\n",
              "    <tr>\n",
              "      <th>0</th>\n",
              "      <td>01-2015</td>\n",
              "      <td>166</td>\n",
              "      <td>1</td>\n",
              "      <td>1</td>\n",
              "      <td>0.0</td>\n",
              "      <td>2015</td>\n",
              "      <td>01</td>\n",
              "    </tr>\n",
              "    <tr>\n",
              "      <th>7</th>\n",
              "      <td>02-2015</td>\n",
              "      <td>157</td>\n",
              "      <td>1</td>\n",
              "      <td>1</td>\n",
              "      <td>0.0</td>\n",
              "      <td>2015</td>\n",
              "      <td>02</td>\n",
              "    </tr>\n",
              "    <tr>\n",
              "      <th>14</th>\n",
              "      <td>03-2015</td>\n",
              "      <td>240</td>\n",
              "      <td>1</td>\n",
              "      <td>1</td>\n",
              "      <td>0.0</td>\n",
              "      <td>2015</td>\n",
              "      <td>03</td>\n",
              "    </tr>\n",
              "    <tr>\n",
              "      <th>21</th>\n",
              "      <td>04-2015</td>\n",
              "      <td>224</td>\n",
              "      <td>1</td>\n",
              "      <td>1</td>\n",
              "      <td>0.0</td>\n",
              "      <td>2015</td>\n",
              "      <td>04</td>\n",
              "    </tr>\n",
              "    <tr>\n",
              "      <th>28</th>\n",
              "      <td>05-2015</td>\n",
              "      <td>189</td>\n",
              "      <td>1</td>\n",
              "      <td>1</td>\n",
              "      <td>0.0</td>\n",
              "      <td>2015</td>\n",
              "      <td>05</td>\n",
              "    </tr>\n",
              "    <tr>\n",
              "      <th>34</th>\n",
              "      <td>06-2015</td>\n",
              "      <td>169</td>\n",
              "      <td>1</td>\n",
              "      <td>1</td>\n",
              "      <td>0.0</td>\n",
              "      <td>2015</td>\n",
              "      <td>06</td>\n",
              "    </tr>\n",
              "    <tr>\n",
              "      <th>40</th>\n",
              "      <td>07-2015</td>\n",
              "      <td>196</td>\n",
              "      <td>1</td>\n",
              "      <td>1</td>\n",
              "      <td>0.0</td>\n",
              "      <td>2015</td>\n",
              "      <td>07</td>\n",
              "    </tr>\n",
              "    <tr>\n",
              "      <th>46</th>\n",
              "      <td>08-2015</td>\n",
              "      <td>202</td>\n",
              "      <td>1</td>\n",
              "      <td>1</td>\n",
              "      <td>0.0</td>\n",
              "      <td>2015</td>\n",
              "      <td>08</td>\n",
              "    </tr>\n",
              "    <tr>\n",
              "      <th>52</th>\n",
              "      <td>09-2015</td>\n",
              "      <td>165</td>\n",
              "      <td>1</td>\n",
              "      <td>1</td>\n",
              "      <td>0.0</td>\n",
              "      <td>2015</td>\n",
              "      <td>09</td>\n",
              "    </tr>\n",
              "    <tr>\n",
              "      <th>58</th>\n",
              "      <td>10-2015</td>\n",
              "      <td>185</td>\n",
              "      <td>1</td>\n",
              "      <td>1</td>\n",
              "      <td>0.0</td>\n",
              "      <td>2015</td>\n",
              "      <td>10</td>\n",
              "    </tr>\n",
              "  </tbody>\n",
              "</table>\n",
              "</div>"
            ],
            "text/plain": [
              "   Month_Year  count_nonzero  mean  median  std  Year Month\n",
              "0     01-2015            166     1       1  0.0  2015    01\n",
              "7     02-2015            157     1       1  0.0  2015    02\n",
              "14    03-2015            240     1       1  0.0  2015    03\n",
              "21    04-2015            224     1       1  0.0  2015    04\n",
              "28    05-2015            189     1       1  0.0  2015    05\n",
              "34    06-2015            169     1       1  0.0  2015    06\n",
              "40    07-2015            196     1       1  0.0  2015    07\n",
              "46    08-2015            202     1       1  0.0  2015    08\n",
              "52    09-2015            165     1       1  0.0  2015    09\n",
              "58    10-2015            185     1       1  0.0  2015    10"
            ]
          },
          "metadata": {
            "tags": []
          },
          "execution_count": 20
        }
      ]
    },
    {
      "cell_type": "code",
      "metadata": {
        "id": "4-jXcCXeRRTM"
      },
      "source": [
        "#Let's set the Month_Year as the row index\n",
        "monthly_stats.index = monthly_stats['Month_Year']"
      ],
      "execution_count": null,
      "outputs": []
    },
    {
      "cell_type": "code",
      "metadata": {
        "colab": {
          "base_uri": "https://localhost:8080/",
          "height": 395
        },
        "id": "ho6KdYWvQCiW",
        "outputId": "2b9add1d-8a64-4f7b-8aa1-b71d58381ee1"
      },
      "source": [
        "#Plot original time series and daily mean\n",
        "fig = plt.figure(figsize=(5.5, 5.5))\n",
        "ax = fig.add_subplot(1,1,1)\n",
        "\n",
        "monthly_stats['count_nonzero'].plot(ax=ax, color='b')\n",
        "\n",
        "ax.set_title('Outage Trending by Month')"
      ],
      "execution_count": null,
      "outputs": [
        {
          "output_type": "execute_result",
          "data": {
            "text/plain": [
              "Text(0.5, 1.0, 'Outage Trending by Month')"
            ]
          },
          "metadata": {
            "tags": []
          },
          "execution_count": 22
        },
        {
          "output_type": "display_data",
          "data": {
            "image/png": "[encoded data removed]",
            "text/plain": [
              "<Figure size 396x396 with 1 Axes>"
            ]
          },
          "metadata": {
            "tags": [],
            "needs_background": "light"
          }
        }
      ]
    },
    {
      "cell_type": "code",
      "metadata": {
        "id": "-7YnK8ykxs1y"
      },
      "source": [
        "# evaluate cnn\n",
        "from math import sqrt\n",
        "from numpy import array\n",
        "from numpy import mean\n",
        "from numpy import std\n",
        "from pandas import DataFrame\n",
        "from pandas import concat\n",
        "from sklearn.metrics import mean_squared_log_error\n",
        "from keras.models import Sequential\n",
        "from keras.layers import Dense\n",
        "from keras.layers import Flatten\n",
        "from keras.layers.convolutional import Conv1D\n",
        "from keras.layers.convolutional import MaxPooling1D\n",
        "from matplotlib import pyplot\n",
        "\n",
        "# split a univariate dataset into train/test sets\n",
        "def train_test_split(data, n_test):\n",
        "\treturn data[:-n_test], data[-n_test:]\n",
        "\n",
        "# transform list into supervised learning format\n",
        "def series_to_supervised(data, n_in=1, n_out=1):\n",
        "\tdf = DataFrame(data)\n",
        "\tcols = list()\n",
        "\t# input sequence (t-n, ... t-1)\n",
        "\tfor i in range(n_in, 0, -1):\n",
        "\t\tcols.append(df.shift(i))\n",
        "\t# forecast sequence (t, t+1, ... t+n)\n",
        "\tfor i in range(0, n_out):\n",
        "\t\tcols.append(df.shift(-i))\n",
        "\t# put it all together\n",
        "\tagg = concat(cols, axis=1)\n",
        "\t# drop rows with NaN values\n",
        "\tagg.dropna(inplace=True)\n",
        "\treturn agg.values\n",
        "\n",
        "# root mean squared error or rmse\n",
        "def measure_rmsle(actual, predicted):\n",
        "\treturn sqrt(mean_squared_log_error(actual, predicted))\n",
        "\n",
        "# fit a model\n",
        "def model_fit(train, config):\n",
        "\t# unpack config\n",
        "\tn_input, n_filters, n_kernel, n_epochs, n_batch = config\n",
        "\t# prepare data\n",
        "\tdata = series_to_supervised(train, n_in=n_input)\n",
        "\ttrain_x, train_y = data[:, :-1], data[:, -1]\n",
        "\ttrain_x = train_x.reshape((train_x.shape[0], train_x.shape[1], 1))\n",
        "\t# define model\n",
        "\tmodel = Sequential()\n",
        "\tmodel.add(Conv1D(filters=n_filters, kernel_size=n_kernel, activation='relu', input_shape=(n_input, 1)))\n",
        "\tmodel.add(Conv1D(filters=n_filters, kernel_size=n_kernel, activation='relu'))\n",
        "\tmodel.add(MaxPooling1D(pool_size=2))\n",
        "\tmodel.add(Flatten())\n",
        "\tmodel.add(Dense(1))\n",
        "\tmodel.compile(loss='mse', optimizer='adam')\n",
        "\t# fit\n",
        "\tmodel.fit(train_x, train_y, epochs=n_epochs, batch_size=n_batch, verbose=0)\n",
        "\treturn model\n",
        "\n",
        "# forecast with a pre-fit model\n",
        "def model_predict(model, history, config):\n",
        "\t# unpack config\n",
        "\tn_input, _, _, _, _ = config\n",
        "\t# prepare data\n",
        "\tx_input = array(history[-n_input:]).reshape((1, n_input, 1))\n",
        "\t# forecast\n",
        "\tyhat = model.predict(x_input, verbose=0)\n",
        "\treturn yhat[0]\n",
        "\n",
        "# walk-forward validation for univariate data\n",
        "def walk_forward_validation(data, n_test, cfg):\n",
        "\tpredictions = list()\n",
        "\t# split dataset\n",
        "\ttrain, test = train_test_split(data, n_test)\n",
        "\t# fit model\n",
        "\tmodel = model_fit(train, cfg)\n",
        "\t# seed history with training dataset\n",
        "\thistory = [x for x in train]\n",
        "\t# step over each time-step in the test set\n",
        "\tfor i in range(len(test)):\n",
        "\t\t# fit model and make forecast for history\n",
        "\t\tyhat = model_predict(model, history, cfg)\n",
        "\t\t# store forecast in list of predictions\n",
        "\t\tpredictions.append(yhat)\n",
        "\t\t# add actual observation to history for the next loop\n",
        "\t\thistory.append(test[i])\n",
        "\t# estimate prediction error\n",
        "\terror = measure_rmsle(test, predictions)\n",
        "\tprint(' > %.3f' % error)\n",
        "\treturn error\n",
        "\n",
        "# repeat evaluation of a config\n",
        "def repeat_evaluate(data, config, n_test, n_repeats=30):\n",
        "\t# fit and evaluate the model n times\n",
        "\tscores = [walk_forward_validation(data, n_test, config) for _ in range(n_repeats)]\n",
        "\treturn scores\n",
        "\n",
        "# summarize model performance\n",
        "def summarize_scores(name, scores):\n",
        "\t# print a summary\n",
        "\tscores_m, score_std = mean(scores), std(scores)\n",
        "\tprint('%s: %.3f RMSE (+/- %.3f)' % (name, scores_m, score_std))\n",
        "\t# box and whisker plot\n",
        "\tpyplot.boxplot(scores)\n",
        "\tpyplot.show()"
      ],
      "execution_count": null,
      "outputs": []
    },
    {
      "cell_type": "code",
      "metadata": {
        "id": "XvQztYByPYR3",
        "colab": {
          "base_uri": "https://localhost:8080/"
        },
        "outputId": "b2e46594-cf88-4e75-c7e3-5cc7761d0651"
      },
      "source": [
        "series = monthly_stats.iloc[:,1]\n",
        "data = series.values\n",
        "data"
      ],
      "execution_count": null,
      "outputs": [
        {
          "output_type": "execute_result",
          "data": {
            "text/plain": [
              "array([166, 157, 240, 224, 189, 169, 196, 202, 165, 185, 282, 141, 232,\n",
              "       185, 244, 246, 207, 183, 233, 195, 246, 213, 194, 185, 186, 234,\n",
              "       275, 257, 212, 243, 167, 201, 196, 255, 266, 235, 199, 201, 266,\n",
              "       251, 265, 205, 217, 224, 251, 192, 214, 190, 132, 133, 192, 232,\n",
              "       273, 198, 188, 168, 225, 269, 228, 137, 169, 151, 183, 232, 217,\n",
              "       184, 182, 143, 175, 203, 193, 205,  11,   1,   5,   1])"
            ]
          },
          "metadata": {
            "tags": []
          },
          "execution_count": 27
        }
      ]
    },
    {
      "cell_type": "code",
      "metadata": {
        "colab": {
          "base_uri": "https://localhost:8080/"
        },
        "id": "CqWSiueTycd4",
        "outputId": "60e83a32-f2a5-47c4-f30d-4acaab4c4d69"
      },
      "source": [
        "# data split\n",
        "n_test = 12\n",
        "# define config\n",
        "config = [36, 256, 3, 100, 100]\n",
        "# grid search\n",
        "scores = repeat_evaluate(data, config, n_test)\n",
        "# summarize scores\n",
        "summarize_scores('cnn', scores)"
      ],
      "execution_count": null,
      "outputs": [
        {
          "output_type": "stream",
          "text": [
            " > 2.169\n",
            " > 2.206\n",
            " > 2.201\n",
            " > 2.170\n",
            " > 2.162\n",
            " > 2.187\n",
            " > 2.155\n",
            " > 2.207\n",
            " > 2.215\n",
            " > 2.176\n",
            " > 2.151\n",
            " > 2.144\n",
            " > 2.177\n",
            " > 2.174\n",
            " > 2.183\n",
            " > 2.174\n",
            " > 2.214\n",
            " > 2.204\n",
            " > 2.167\n",
            " > 2.204\n",
            " > 2.185\n",
            " > 2.176\n",
            " > 2.178\n",
            " > 2.199\n",
            " > 2.169\n",
            " > 2.179\n",
            " > 2.188\n",
            " > 2.157\n",
            " > 2.207\n",
            " > 2.160\n",
            "cnn: 2.181 RMSE (+/- 0.019)\n"
          ],
          "name": "stdout"
        },
        {
          "output_type": "display_data",
          "data": {
            "image/png": "[encoded data removed]",
            "text/plain": [
              "<Figure size 432x288 with 1 Axes>"
            ]
          },
          "metadata": {
            "tags": [],
            "needs_background": "light"
          }
        }
      ]
    }
  ]
}